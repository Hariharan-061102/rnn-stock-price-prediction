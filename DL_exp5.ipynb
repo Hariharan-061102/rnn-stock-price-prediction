{
  "nbformat": 4,
  "nbformat_minor": 0,
  "metadata": {
    "colab": {
      "provenance": []
    },
    "kernelspec": {
      "name": "python3",
      "display_name": "Python 3"
    },
    "language_info": {
      "name": "python"
    }
  },
  "cells": [
    {
      "cell_type": "code",
      "execution_count": 1,
      "metadata": {
        "id": "K--VjtM53aTb"
      },
      "outputs": [],
      "source": [
        "import numpy as np\n",
        "import matplotlib.pyplot as plt\n",
        "import pandas as pd\n",
        "from sklearn.preprocessing import MinMaxScaler\n",
        "from keras import layers\n",
        "from keras.models import Sequential"
      ]
    },
    {
      "cell_type": "code",
      "source": [
        "dataset_train = pd.read_csv('trainset.csv')"
      ],
      "metadata": {
        "id": "vTJNfxPg4exx"
      },
      "execution_count": 2,
      "outputs": []
    },
    {
      "cell_type": "code",
      "source": [
        "dataset_train.columns\n"
      ],
      "metadata": {
        "colab": {
          "base_uri": "https://localhost:8080/"
        },
        "id": "4CdhK15Y4lzt",
        "outputId": "ed38b826-02b8-4d2f-d150-e59674387c7b"
      },
      "execution_count": 3,
      "outputs": [
        {
          "output_type": "execute_result",
          "data": {
            "text/plain": [
              "Index(['Date', 'Open', 'High', 'Low', 'Close', 'Adj Close', 'Volume'], dtype='object')"
            ]
          },
          "metadata": {},
          "execution_count": 3
        }
      ]
    },
    {
      "cell_type": "code",
      "source": [
        "dataset_train.head()"
      ],
      "metadata": {
        "colab": {
          "base_uri": "https://localhost:8080/",
          "height": 206
        },
        "id": "2_Srrd794oI7",
        "outputId": "6d7d05c8-ff3a-4675-f75f-cce48e37cb79"
      },
      "execution_count": 4,
      "outputs": [
        {
          "output_type": "execute_result",
          "data": {
            "text/plain": [
              "         Date        Open        High         Low       Close   Adj Close  \\\n",
              "0  2013-01-02  357.385559  361.151062  355.959839  359.288177  359.288177   \n",
              "1  2013-01-03  360.122742  363.600128  358.031342  359.496826  359.496826   \n",
              "2  2013-01-04  362.313507  368.339294  361.488861  366.600616  366.600616   \n",
              "3  2013-01-07  365.348755  367.301056  362.929504  365.001007  365.001007   \n",
              "4  2013-01-08  365.393463  365.771027  359.874359  364.280701  364.280701   \n",
              "\n",
              "    Volume  \n",
              "0  5115500  \n",
              "1  4666500  \n",
              "2  5562800  \n",
              "3  3332900  \n",
              "4  3373900  "
            ],
            "text/html": [
              "\n",
              "  <div id=\"df-4b193f82-5ce1-4d42-81ad-8e8730eef148\" class=\"colab-df-container\">\n",
              "    <div>\n",
              "<style scoped>\n",
              "    .dataframe tbody tr th:only-of-type {\n",
              "        vertical-align: middle;\n",
              "    }\n",
              "\n",
              "    .dataframe tbody tr th {\n",
              "        vertical-align: top;\n",
              "    }\n",
              "\n",
              "    .dataframe thead th {\n",
              "        text-align: right;\n",
              "    }\n",
              "</style>\n",
              "<table border=\"1\" class=\"dataframe\">\n",
              "  <thead>\n",
              "    <tr style=\"text-align: right;\">\n",
              "      <th></th>\n",
              "      <th>Date</th>\n",
              "      <th>Open</th>\n",
              "      <th>High</th>\n",
              "      <th>Low</th>\n",
              "      <th>Close</th>\n",
              "      <th>Adj Close</th>\n",
              "      <th>Volume</th>\n",
              "    </tr>\n",
              "  </thead>\n",
              "  <tbody>\n",
              "    <tr>\n",
              "      <th>0</th>\n",
              "      <td>2013-01-02</td>\n",
              "      <td>357.385559</td>\n",
              "      <td>361.151062</td>\n",
              "      <td>355.959839</td>\n",
              "      <td>359.288177</td>\n",
              "      <td>359.288177</td>\n",
              "      <td>5115500</td>\n",
              "    </tr>\n",
              "    <tr>\n",
              "      <th>1</th>\n",
              "      <td>2013-01-03</td>\n",
              "      <td>360.122742</td>\n",
              "      <td>363.600128</td>\n",
              "      <td>358.031342</td>\n",
              "      <td>359.496826</td>\n",
              "      <td>359.496826</td>\n",
              "      <td>4666500</td>\n",
              "    </tr>\n",
              "    <tr>\n",
              "      <th>2</th>\n",
              "      <td>2013-01-04</td>\n",
              "      <td>362.313507</td>\n",
              "      <td>368.339294</td>\n",
              "      <td>361.488861</td>\n",
              "      <td>366.600616</td>\n",
              "      <td>366.600616</td>\n",
              "      <td>5562800</td>\n",
              "    </tr>\n",
              "    <tr>\n",
              "      <th>3</th>\n",
              "      <td>2013-01-07</td>\n",
              "      <td>365.348755</td>\n",
              "      <td>367.301056</td>\n",
              "      <td>362.929504</td>\n",
              "      <td>365.001007</td>\n",
              "      <td>365.001007</td>\n",
              "      <td>3332900</td>\n",
              "    </tr>\n",
              "    <tr>\n",
              "      <th>4</th>\n",
              "      <td>2013-01-08</td>\n",
              "      <td>365.393463</td>\n",
              "      <td>365.771027</td>\n",
              "      <td>359.874359</td>\n",
              "      <td>364.280701</td>\n",
              "      <td>364.280701</td>\n",
              "      <td>3373900</td>\n",
              "    </tr>\n",
              "  </tbody>\n",
              "</table>\n",
              "</div>\n",
              "    <div class=\"colab-df-buttons\">\n",
              "\n",
              "  <div class=\"colab-df-container\">\n",
              "    <button class=\"colab-df-convert\" onclick=\"convertToInteractive('df-4b193f82-5ce1-4d42-81ad-8e8730eef148')\"\n",
              "            title=\"Convert this dataframe to an interactive table.\"\n",
              "            style=\"display:none;\">\n",
              "\n",
              "  <svg xmlns=\"http://www.w3.org/2000/svg\" height=\"24px\" viewBox=\"0 -960 960 960\">\n",
              "    <path d=\"M120-120v-720h720v720H120Zm60-500h600v-160H180v160Zm220 220h160v-160H400v160Zm0 220h160v-160H400v160ZM180-400h160v-160H180v160Zm440 0h160v-160H620v160ZM180-180h160v-160H180v160Zm440 0h160v-160H620v160Z\"/>\n",
              "  </svg>\n",
              "    </button>\n",
              "\n",
              "  <style>\n",
              "    .colab-df-container {\n",
              "      display:flex;\n",
              "      gap: 12px;\n",
              "    }\n",
              "\n",
              "    .colab-df-convert {\n",
              "      background-color: #E8F0FE;\n",
              "      border: none;\n",
              "      border-radius: 50%;\n",
              "      cursor: pointer;\n",
              "      display: none;\n",
              "      fill: #1967D2;\n",
              "      height: 32px;\n",
              "      padding: 0 0 0 0;\n",
              "      width: 32px;\n",
              "    }\n",
              "\n",
              "    .colab-df-convert:hover {\n",
              "      background-color: #E2EBFA;\n",
              "      box-shadow: 0px 1px 2px rgba(60, 64, 67, 0.3), 0px 1px 3px 1px rgba(60, 64, 67, 0.15);\n",
              "      fill: #174EA6;\n",
              "    }\n",
              "\n",
              "    .colab-df-buttons div {\n",
              "      margin-bottom: 4px;\n",
              "    }\n",
              "\n",
              "    [theme=dark] .colab-df-convert {\n",
              "      background-color: #3B4455;\n",
              "      fill: #D2E3FC;\n",
              "    }\n",
              "\n",
              "    [theme=dark] .colab-df-convert:hover {\n",
              "      background-color: #434B5C;\n",
              "      box-shadow: 0px 1px 3px 1px rgba(0, 0, 0, 0.15);\n",
              "      filter: drop-shadow(0px 1px 2px rgba(0, 0, 0, 0.3));\n",
              "      fill: #FFFFFF;\n",
              "    }\n",
              "  </style>\n",
              "\n",
              "    <script>\n",
              "      const buttonEl =\n",
              "        document.querySelector('#df-4b193f82-5ce1-4d42-81ad-8e8730eef148 button.colab-df-convert');\n",
              "      buttonEl.style.display =\n",
              "        google.colab.kernel.accessAllowed ? 'block' : 'none';\n",
              "\n",
              "      async function convertToInteractive(key) {\n",
              "        const element = document.querySelector('#df-4b193f82-5ce1-4d42-81ad-8e8730eef148');\n",
              "        const dataTable =\n",
              "          await google.colab.kernel.invokeFunction('convertToInteractive',\n",
              "                                                    [key], {});\n",
              "        if (!dataTable) return;\n",
              "\n",
              "        const docLinkHtml = 'Like what you see? Visit the ' +\n",
              "          '<a target=\"_blank\" href=https://colab.research.google.com/notebooks/data_table.ipynb>data table notebook</a>'\n",
              "          + ' to learn more about interactive tables.';\n",
              "        element.innerHTML = '';\n",
              "        dataTable['output_type'] = 'display_data';\n",
              "        await google.colab.output.renderOutput(dataTable, element);\n",
              "        const docLink = document.createElement('div');\n",
              "        docLink.innerHTML = docLinkHtml;\n",
              "        element.appendChild(docLink);\n",
              "      }\n",
              "    </script>\n",
              "  </div>\n",
              "\n",
              "\n",
              "<div id=\"df-c6b8efc5-d001-489b-aa0f-d7f0093e55df\">\n",
              "  <button class=\"colab-df-quickchart\" onclick=\"quickchart('df-c6b8efc5-d001-489b-aa0f-d7f0093e55df')\"\n",
              "            title=\"Suggest charts.\"\n",
              "            style=\"display:none;\">\n",
              "\n",
              "<svg xmlns=\"http://www.w3.org/2000/svg\" height=\"24px\"viewBox=\"0 0 24 24\"\n",
              "     width=\"24px\">\n",
              "    <g>\n",
              "        <path d=\"M19 3H5c-1.1 0-2 .9-2 2v14c0 1.1.9 2 2 2h14c1.1 0 2-.9 2-2V5c0-1.1-.9-2-2-2zM9 17H7v-7h2v7zm4 0h-2V7h2v10zm4 0h-2v-4h2v4z\"/>\n",
              "    </g>\n",
              "</svg>\n",
              "  </button>\n",
              "\n",
              "<style>\n",
              "  .colab-df-quickchart {\n",
              "      --bg-color: #E8F0FE;\n",
              "      --fill-color: #1967D2;\n",
              "      --hover-bg-color: #E2EBFA;\n",
              "      --hover-fill-color: #174EA6;\n",
              "      --disabled-fill-color: #AAA;\n",
              "      --disabled-bg-color: #DDD;\n",
              "  }\n",
              "\n",
              "  [theme=dark] .colab-df-quickchart {\n",
              "      --bg-color: #3B4455;\n",
              "      --fill-color: #D2E3FC;\n",
              "      --hover-bg-color: #434B5C;\n",
              "      --hover-fill-color: #FFFFFF;\n",
              "      --disabled-bg-color: #3B4455;\n",
              "      --disabled-fill-color: #666;\n",
              "  }\n",
              "\n",
              "  .colab-df-quickchart {\n",
              "    background-color: var(--bg-color);\n",
              "    border: none;\n",
              "    border-radius: 50%;\n",
              "    cursor: pointer;\n",
              "    display: none;\n",
              "    fill: var(--fill-color);\n",
              "    height: 32px;\n",
              "    padding: 0;\n",
              "    width: 32px;\n",
              "  }\n",
              "\n",
              "  .colab-df-quickchart:hover {\n",
              "    background-color: var(--hover-bg-color);\n",
              "    box-shadow: 0 1px 2px rgba(60, 64, 67, 0.3), 0 1px 3px 1px rgba(60, 64, 67, 0.15);\n",
              "    fill: var(--button-hover-fill-color);\n",
              "  }\n",
              "\n",
              "  .colab-df-quickchart-complete:disabled,\n",
              "  .colab-df-quickchart-complete:disabled:hover {\n",
              "    background-color: var(--disabled-bg-color);\n",
              "    fill: var(--disabled-fill-color);\n",
              "    box-shadow: none;\n",
              "  }\n",
              "\n",
              "  .colab-df-spinner {\n",
              "    border: 2px solid var(--fill-color);\n",
              "    border-color: transparent;\n",
              "    border-bottom-color: var(--fill-color);\n",
              "    animation:\n",
              "      spin 1s steps(1) infinite;\n",
              "  }\n",
              "\n",
              "  @keyframes spin {\n",
              "    0% {\n",
              "      border-color: transparent;\n",
              "      border-bottom-color: var(--fill-color);\n",
              "      border-left-color: var(--fill-color);\n",
              "    }\n",
              "    20% {\n",
              "      border-color: transparent;\n",
              "      border-left-color: var(--fill-color);\n",
              "      border-top-color: var(--fill-color);\n",
              "    }\n",
              "    30% {\n",
              "      border-color: transparent;\n",
              "      border-left-color: var(--fill-color);\n",
              "      border-top-color: var(--fill-color);\n",
              "      border-right-color: var(--fill-color);\n",
              "    }\n",
              "    40% {\n",
              "      border-color: transparent;\n",
              "      border-right-color: var(--fill-color);\n",
              "      border-top-color: var(--fill-color);\n",
              "    }\n",
              "    60% {\n",
              "      border-color: transparent;\n",
              "      border-right-color: var(--fill-color);\n",
              "    }\n",
              "    80% {\n",
              "      border-color: transparent;\n",
              "      border-right-color: var(--fill-color);\n",
              "      border-bottom-color: var(--fill-color);\n",
              "    }\n",
              "    90% {\n",
              "      border-color: transparent;\n",
              "      border-bottom-color: var(--fill-color);\n",
              "    }\n",
              "  }\n",
              "</style>\n",
              "\n",
              "  <script>\n",
              "    async function quickchart(key) {\n",
              "      const quickchartButtonEl =\n",
              "        document.querySelector('#' + key + ' button');\n",
              "      quickchartButtonEl.disabled = true;  // To prevent multiple clicks.\n",
              "      quickchartButtonEl.classList.add('colab-df-spinner');\n",
              "      try {\n",
              "        const charts = await google.colab.kernel.invokeFunction(\n",
              "            'suggestCharts', [key], {});\n",
              "      } catch (error) {\n",
              "        console.error('Error during call to suggestCharts:', error);\n",
              "      }\n",
              "      quickchartButtonEl.classList.remove('colab-df-spinner');\n",
              "      quickchartButtonEl.classList.add('colab-df-quickchart-complete');\n",
              "    }\n",
              "    (() => {\n",
              "      let quickchartButtonEl =\n",
              "        document.querySelector('#df-c6b8efc5-d001-489b-aa0f-d7f0093e55df button');\n",
              "      quickchartButtonEl.style.display =\n",
              "        google.colab.kernel.accessAllowed ? 'block' : 'none';\n",
              "    })();\n",
              "  </script>\n",
              "</div>\n",
              "    </div>\n",
              "  </div>\n"
            ]
          },
          "metadata": {},
          "execution_count": 4
        }
      ]
    },
    {
      "cell_type": "code",
      "source": [
        "train_set = dataset_train.iloc[:,1:2].values"
      ],
      "metadata": {
        "id": "81_i-lgQ4rEP"
      },
      "execution_count": 5,
      "outputs": []
    },
    {
      "cell_type": "code",
      "source": [
        "type(train_set)"
      ],
      "metadata": {
        "colab": {
          "base_uri": "https://localhost:8080/"
        },
        "id": "WbGDBmbM4ufP",
        "outputId": "7cf485b3-ed7f-4ffc-ddcb-180a0de34313"
      },
      "execution_count": 6,
      "outputs": [
        {
          "output_type": "execute_result",
          "data": {
            "text/plain": [
              "numpy.ndarray"
            ]
          },
          "metadata": {},
          "execution_count": 6
        }
      ]
    },
    {
      "cell_type": "code",
      "source": [
        "train_set.shape"
      ],
      "metadata": {
        "colab": {
          "base_uri": "https://localhost:8080/"
        },
        "id": "5jL0zJgD4wWp",
        "outputId": "ffc65c2b-2b37-4831-bd48-74455b4b664d"
      },
      "execution_count": 7,
      "outputs": [
        {
          "output_type": "execute_result",
          "data": {
            "text/plain": [
              "(1259, 1)"
            ]
          },
          "metadata": {},
          "execution_count": 7
        }
      ]
    },
    {
      "cell_type": "code",
      "source": [
        "sc = MinMaxScaler(feature_range=(0,1))\n",
        "training_set_scaled = sc.fit_transform(train_set)\n",
        "training_set_scaled.shape"
      ],
      "metadata": {
        "colab": {
          "base_uri": "https://localhost:8080/"
        },
        "id": "bG82GXIz4yh8",
        "outputId": "0658a82f-1a50-4323-b16f-e7d4806dc9a0"
      },
      "execution_count": 9,
      "outputs": [
        {
          "output_type": "execute_result",
          "data": {
            "text/plain": [
              "(1259, 1)"
            ]
          },
          "metadata": {},
          "execution_count": 9
        }
      ]
    },
    {
      "cell_type": "code",
      "source": [
        "X_train_array = []\n",
        "y_train_array = []\n",
        "for i in range(60, 1259):\n",
        "  X_train_array.append(training_set_scaled[i-60:i,0])\n",
        "  y_train_array.append(training_set_scaled[i,0])\n",
        "X_train, y_train = np.array(X_train_array), np.array(y_train_array)\n",
        "X_train1 = X_train.reshape((X_train.shape[0], X_train.shape[1],1))\n",
        "X_train.shape"
      ],
      "metadata": {
        "colab": {
          "base_uri": "https://localhost:8080/"
        },
        "id": "ZAjU5n0M42jr",
        "outputId": "438b9ac6-495d-44ea-e370-beb7735b7e6e"
      },
      "execution_count": 10,
      "outputs": [
        {
          "output_type": "execute_result",
          "data": {
            "text/plain": [
              "(1199, 60)"
            ]
          },
          "metadata": {},
          "execution_count": 10
        }
      ]
    },
    {
      "cell_type": "code",
      "source": [
        "length = 60\n",
        "n_features = 1\n",
        "\n",
        "model = Sequential()\n",
        "model.add(layers.SimpleRNN(10,input_shape=(60,1)))\n",
        "model.add(layers.Dense(1))\n",
        "model.compile(optimizer='adam', loss='mse')\n",
        "model.summary()"
      ],
      "metadata": {
        "colab": {
          "base_uri": "https://localhost:8080/"
        },
        "id": "oVmtpsVk5Au5",
        "outputId": "a4656c24-3362-43b7-8609-3590642a11e2"
      },
      "execution_count": 11,
      "outputs": [
        {
          "output_type": "stream",
          "name": "stdout",
          "text": [
            "Model: \"sequential\"\n",
            "_________________________________________________________________\n",
            " Layer (type)                Output Shape              Param #   \n",
            "=================================================================\n",
            " simple_rnn (SimpleRNN)      (None, 10)                120       \n",
            "                                                                 \n",
            " dense (Dense)               (None, 1)                 11        \n",
            "                                                                 \n",
            "=================================================================\n",
            "Total params: 131 (524.00 Byte)\n",
            "Trainable params: 131 (524.00 Byte)\n",
            "Non-trainable params: 0 (0.00 Byte)\n",
            "_________________________________________________________________\n"
          ]
        }
      ]
    },
    {
      "cell_type": "code",
      "source": [
        "model.fit(X_train1,y_train,epochs=100, batch_size=32)\n",
        "dataset_test = pd.read_csv('testset.csv')\n",
        "test_set = dataset_test.iloc[:,1:2].values\n",
        "test_set.shape"
      ],
      "metadata": {
        "colab": {
          "base_uri": "https://localhost:8080/"
        },
        "id": "TABurWGw5GTW",
        "outputId": "fe6a777e-1025-49d5-8b5d-ca02a6b4eea8"
      },
      "execution_count": 12,
      "outputs": [
        {
          "output_type": "stream",
          "name": "stdout",
          "text": [
            "Epoch 1/100\n",
            "38/38 [==============================] - 3s 10ms/step - loss: 0.1251\n",
            "Epoch 2/100\n",
            "38/38 [==============================] - 0s 11ms/step - loss: 0.0028\n",
            "Epoch 3/100\n",
            "38/38 [==============================] - 0s 11ms/step - loss: 0.0011\n",
            "Epoch 4/100\n",
            "38/38 [==============================] - 0s 10ms/step - loss: 7.1265e-04\n",
            "Epoch 5/100\n",
            "38/38 [==============================] - 0s 10ms/step - loss: 5.4565e-04\n",
            "Epoch 6/100\n",
            "38/38 [==============================] - 0s 11ms/step - loss: 4.5036e-04\n",
            "Epoch 7/100\n",
            "38/38 [==============================] - 0s 10ms/step - loss: 3.8422e-04\n",
            "Epoch 8/100\n",
            "38/38 [==============================] - 0s 11ms/step - loss: 3.4940e-04\n",
            "Epoch 9/100\n",
            "38/38 [==============================] - 0s 10ms/step - loss: 3.1773e-04\n",
            "Epoch 10/100\n",
            "38/38 [==============================] - 0s 10ms/step - loss: 2.9945e-04\n",
            "Epoch 11/100\n",
            "38/38 [==============================] - 0s 9ms/step - loss: 2.8137e-04\n",
            "Epoch 12/100\n",
            "38/38 [==============================] - 0s 10ms/step - loss: 2.6837e-04\n",
            "Epoch 13/100\n",
            "38/38 [==============================] - 0s 10ms/step - loss: 2.5807e-04\n",
            "Epoch 14/100\n",
            "38/38 [==============================] - 0s 10ms/step - loss: 2.4907e-04\n",
            "Epoch 15/100\n",
            "38/38 [==============================] - 1s 16ms/step - loss: 2.4000e-04\n",
            "Epoch 16/100\n",
            "38/38 [==============================] - 1s 16ms/step - loss: 2.3383e-04\n",
            "Epoch 17/100\n",
            "38/38 [==============================] - 1s 16ms/step - loss: 2.2699e-04\n",
            "Epoch 18/100\n",
            "38/38 [==============================] - 1s 16ms/step - loss: 2.2209e-04\n",
            "Epoch 19/100\n",
            "38/38 [==============================] - 1s 27ms/step - loss: 2.1710e-04\n",
            "Epoch 20/100\n",
            "38/38 [==============================] - 1s 17ms/step - loss: 2.1345e-04\n",
            "Epoch 21/100\n",
            "38/38 [==============================] - 0s 11ms/step - loss: 2.1166e-04\n",
            "Epoch 22/100\n",
            "38/38 [==============================] - 1s 15ms/step - loss: 2.0897e-04\n",
            "Epoch 23/100\n",
            "38/38 [==============================] - 0s 10ms/step - loss: 2.0481e-04\n",
            "Epoch 24/100\n",
            "38/38 [==============================] - 0s 10ms/step - loss: 2.0255e-04\n",
            "Epoch 25/100\n",
            "38/38 [==============================] - 0s 9ms/step - loss: 1.9843e-04\n",
            "Epoch 26/100\n",
            "38/38 [==============================] - 0s 10ms/step - loss: 1.9550e-04\n",
            "Epoch 27/100\n",
            "38/38 [==============================] - 0s 9ms/step - loss: 1.9483e-04\n",
            "Epoch 28/100\n",
            "38/38 [==============================] - 0s 10ms/step - loss: 1.9187e-04\n",
            "Epoch 29/100\n",
            "38/38 [==============================] - 0s 9ms/step - loss: 1.9165e-04\n",
            "Epoch 30/100\n",
            "38/38 [==============================] - 0s 10ms/step - loss: 1.8879e-04\n",
            "Epoch 31/100\n",
            "38/38 [==============================] - 0s 10ms/step - loss: 1.8679e-04\n",
            "Epoch 32/100\n",
            "38/38 [==============================] - 0s 10ms/step - loss: 1.8611e-04\n",
            "Epoch 33/100\n",
            "38/38 [==============================] - 0s 9ms/step - loss: 1.8666e-04\n",
            "Epoch 34/100\n",
            "38/38 [==============================] - 0s 10ms/step - loss: 1.8457e-04\n",
            "Epoch 35/100\n",
            "38/38 [==============================] - 0s 9ms/step - loss: 1.8445e-04\n",
            "Epoch 36/100\n",
            "38/38 [==============================] - 0s 10ms/step - loss: 1.8466e-04\n",
            "Epoch 37/100\n",
            "38/38 [==============================] - 0s 10ms/step - loss: 1.8245e-04\n",
            "Epoch 38/100\n",
            "38/38 [==============================] - 0s 10ms/step - loss: 1.8223e-04\n",
            "Epoch 39/100\n",
            "38/38 [==============================] - 0s 10ms/step - loss: 1.8132e-04\n",
            "Epoch 40/100\n",
            "38/38 [==============================] - 0s 10ms/step - loss: 1.7973e-04\n",
            "Epoch 41/100\n",
            "38/38 [==============================] - 0s 10ms/step - loss: 1.8555e-04\n",
            "Epoch 42/100\n",
            "38/38 [==============================] - 0s 10ms/step - loss: 1.8503e-04\n",
            "Epoch 43/100\n",
            "38/38 [==============================] - 0s 9ms/step - loss: 1.8222e-04\n",
            "Epoch 44/100\n",
            "38/38 [==============================] - 0s 11ms/step - loss: 1.7958e-04\n",
            "Epoch 45/100\n",
            "38/38 [==============================] - 1s 15ms/step - loss: 1.7979e-04\n",
            "Epoch 46/100\n",
            "38/38 [==============================] - 1s 16ms/step - loss: 1.8266e-04\n",
            "Epoch 47/100\n",
            "38/38 [==============================] - 1s 16ms/step - loss: 1.7870e-04\n",
            "Epoch 48/100\n",
            "38/38 [==============================] - 1s 16ms/step - loss: 1.7729e-04\n",
            "Epoch 49/100\n",
            "38/38 [==============================] - 1s 16ms/step - loss: 1.7878e-04\n",
            "Epoch 50/100\n",
            "38/38 [==============================] - 0s 11ms/step - loss: 1.8079e-04\n",
            "Epoch 51/100\n",
            "38/38 [==============================] - 0s 10ms/step - loss: 1.7964e-04\n",
            "Epoch 52/100\n",
            "38/38 [==============================] - 0s 10ms/step - loss: 1.8132e-04\n",
            "Epoch 53/100\n",
            "38/38 [==============================] - 0s 10ms/step - loss: 1.7811e-04\n",
            "Epoch 54/100\n",
            "38/38 [==============================] - 0s 10ms/step - loss: 1.7640e-04\n",
            "Epoch 55/100\n",
            "38/38 [==============================] - 0s 10ms/step - loss: 1.7818e-04\n",
            "Epoch 56/100\n",
            "38/38 [==============================] - 0s 10ms/step - loss: 1.7738e-04\n",
            "Epoch 57/100\n",
            "38/38 [==============================] - 0s 10ms/step - loss: 1.8030e-04\n",
            "Epoch 58/100\n",
            "38/38 [==============================] - 0s 10ms/step - loss: 1.8201e-04\n",
            "Epoch 59/100\n",
            "38/38 [==============================] - 0s 10ms/step - loss: 1.7720e-04\n",
            "Epoch 60/100\n",
            "38/38 [==============================] - 0s 10ms/step - loss: 1.7745e-04\n",
            "Epoch 61/100\n",
            "38/38 [==============================] - 0s 10ms/step - loss: 1.7611e-04\n",
            "Epoch 62/100\n",
            "38/38 [==============================] - 0s 10ms/step - loss: 1.7688e-04\n",
            "Epoch 63/100\n",
            "38/38 [==============================] - 0s 10ms/step - loss: 1.7623e-04\n",
            "Epoch 64/100\n",
            "38/38 [==============================] - 0s 10ms/step - loss: 1.8043e-04\n",
            "Epoch 65/100\n",
            "38/38 [==============================] - 0s 10ms/step - loss: 1.7932e-04\n",
            "Epoch 66/100\n",
            "38/38 [==============================] - 0s 10ms/step - loss: 1.7591e-04\n",
            "Epoch 67/100\n",
            "38/38 [==============================] - 0s 10ms/step - loss: 1.7931e-04\n",
            "Epoch 68/100\n",
            "38/38 [==============================] - 0s 10ms/step - loss: 1.7867e-04\n",
            "Epoch 69/100\n",
            "38/38 [==============================] - 0s 10ms/step - loss: 1.7587e-04\n",
            "Epoch 70/100\n",
            "38/38 [==============================] - 0s 10ms/step - loss: 1.7587e-04\n",
            "Epoch 71/100\n",
            "38/38 [==============================] - 0s 10ms/step - loss: 1.7933e-04\n",
            "Epoch 72/100\n",
            "38/38 [==============================] - 0s 10ms/step - loss: 1.7618e-04\n",
            "Epoch 73/100\n",
            "38/38 [==============================] - 0s 9ms/step - loss: 1.7390e-04\n",
            "Epoch 74/100\n",
            "38/38 [==============================] - 0s 10ms/step - loss: 1.7407e-04\n",
            "Epoch 75/100\n",
            "38/38 [==============================] - 0s 10ms/step - loss: 1.7880e-04\n",
            "Epoch 76/100\n",
            "38/38 [==============================] - 1s 17ms/step - loss: 1.7462e-04\n",
            "Epoch 77/100\n",
            "38/38 [==============================] - 1s 16ms/step - loss: 1.7746e-04\n",
            "Epoch 78/100\n",
            "38/38 [==============================] - 1s 16ms/step - loss: 1.8385e-04\n",
            "Epoch 79/100\n",
            "38/38 [==============================] - 1s 16ms/step - loss: 1.7528e-04\n",
            "Epoch 80/100\n",
            "38/38 [==============================] - 1s 16ms/step - loss: 1.7896e-04\n",
            "Epoch 81/100\n",
            "38/38 [==============================] - 1s 13ms/step - loss: 1.7756e-04\n",
            "Epoch 82/100\n",
            "38/38 [==============================] - 0s 9ms/step - loss: 1.7970e-04\n",
            "Epoch 83/100\n",
            "38/38 [==============================] - 0s 10ms/step - loss: 1.7553e-04\n",
            "Epoch 84/100\n",
            "38/38 [==============================] - 0s 10ms/step - loss: 1.7474e-04\n",
            "Epoch 85/100\n",
            "38/38 [==============================] - 0s 9ms/step - loss: 1.7545e-04\n",
            "Epoch 86/100\n",
            "38/38 [==============================] - 0s 10ms/step - loss: 1.8179e-04\n",
            "Epoch 87/100\n",
            "38/38 [==============================] - 0s 10ms/step - loss: 1.7236e-04\n",
            "Epoch 88/100\n",
            "38/38 [==============================] - 0s 9ms/step - loss: 1.7792e-04\n",
            "Epoch 89/100\n",
            "38/38 [==============================] - 0s 9ms/step - loss: 1.7355e-04\n",
            "Epoch 90/100\n",
            "38/38 [==============================] - 0s 10ms/step - loss: 1.7553e-04\n",
            "Epoch 91/100\n",
            "38/38 [==============================] - 0s 9ms/step - loss: 1.7884e-04\n",
            "Epoch 92/100\n",
            "38/38 [==============================] - 0s 10ms/step - loss: 1.8542e-04\n",
            "Epoch 93/100\n",
            "38/38 [==============================] - 0s 10ms/step - loss: 1.8017e-04\n",
            "Epoch 94/100\n",
            "38/38 [==============================] - 0s 9ms/step - loss: 1.8024e-04\n",
            "Epoch 95/100\n",
            "38/38 [==============================] - 0s 10ms/step - loss: 1.7709e-04\n",
            "Epoch 96/100\n",
            "38/38 [==============================] - 0s 10ms/step - loss: 1.7937e-04\n",
            "Epoch 97/100\n",
            "38/38 [==============================] - 0s 10ms/step - loss: 1.9336e-04\n",
            "Epoch 98/100\n",
            "38/38 [==============================] - 0s 10ms/step - loss: 1.7387e-04\n",
            "Epoch 99/100\n",
            "38/38 [==============================] - 0s 10ms/step - loss: 1.7885e-04\n",
            "Epoch 100/100\n",
            "38/38 [==============================] - 0s 10ms/step - loss: 1.7495e-04\n"
          ]
        },
        {
          "output_type": "execute_result",
          "data": {
            "text/plain": [
              "(125, 1)"
            ]
          },
          "metadata": {},
          "execution_count": 12
        }
      ]
    },
    {
      "cell_type": "code",
      "source": [
        "dataset_total = pd.concat((dataset_train['Open'],dataset_test['Open']),axis=0)\n",
        "inputs = dataset_total.values\n",
        "inputs = inputs.reshape(-1,1)\n",
        "inputs_scaled=sc.transform(inputs)\n",
        "X_test = []\n",
        "for i in range(60,1384):\n",
        "  X_test.append(inputs_scaled[i-60:i,0])\n",
        "X_test = np.array(X_test)\n",
        "X_test = np.reshape(X_test,(X_test.shape[0], X_test.shape[1],1))\n",
        "X_test.shape\n"
      ],
      "metadata": {
        "colab": {
          "base_uri": "https://localhost:8080/"
        },
        "id": "_S-V_trU5MfW",
        "outputId": "84349031-3022-4815-801e-307685c62fce"
      },
      "execution_count": 13,
      "outputs": [
        {
          "output_type": "execute_result",
          "data": {
            "text/plain": [
              "(1324, 60, 1)"
            ]
          },
          "metadata": {},
          "execution_count": 13
        }
      ]
    },
    {
      "cell_type": "code",
      "source": [
        "predicted_stock_price_scaled = model.predict(X_test)\n",
        "predicted_stock_price = sc.inverse_transform(predicted_stock_price_scaled)\n"
      ],
      "metadata": {
        "colab": {
          "base_uri": "https://localhost:8080/"
        },
        "id": "BiSDa20S53Hu",
        "outputId": "1e271450-b96c-445f-a5fb-186a788d1e2e"
      },
      "execution_count": 14,
      "outputs": [
        {
          "output_type": "stream",
          "name": "stdout",
          "text": [
            "42/42 [==============================] - 1s 9ms/step\n"
          ]
        }
      ]
    },
    {
      "cell_type": "code",
      "source": [
        "plt.plot(np.arange(0,1384),inputs, color='red', label = 'Test(Real) Google stock price')\n",
        "plt.plot(np.arange(60,1384),predicted_stock_price, color='blue', label = 'Predicted Google stock price')\n",
        "plt.title('Google Stock Price Prediction')\n",
        "plt.xlabel('Time')\n",
        "plt.ylabel('Google Stock Price')\n",
        "plt.legend()\n",
        "plt.show()"
      ],
      "metadata": {
        "colab": {
          "base_uri": "https://localhost:8080/",
          "height": 472
        },
        "id": "cI5PoOVn6AS3",
        "outputId": "6f1c54e0-45e0-4107-c519-0d1f55da3dc8"
      },
      "execution_count": 15,
      "outputs": [
        {
          "output_type": "display_data",
          "data": {
            "text/plain": [
              "<Figure size 640x480 with 1 Axes>"
            ],
            "image/png": "[encoded data removed]"
          },
          "metadata": {}
        }
      ]
    },
    {
      "cell_type": "code",
      "source": [],
      "metadata": {
        "id": "Zc55zJPV6CW-"
      },
      "execution_count": null,
      "outputs": []
    }
  ]
}